{
 "cells": [
  {
   "cell_type": "markdown",
   "id": "b672f47c",
   "metadata": {
    "id": "b672f47c"
   },
   "source": [
    "# 5293_final project codes"
   ]
  },
  {
   "cell_type": "markdown",
   "id": "65f81a92",
   "metadata": {},
   "source": [
    "### by Jiapei Li(jl6277), Junkai Ding(jd3868), Taimin Chen(tc3233)"
   ]
  },
  {
   "cell_type": "code",
   "execution_count": 1,
   "id": "c3589f6f",
   "metadata": {
    "id": "c3589f6f"
   },
   "outputs": [],
   "source": [
    "import pandas as pd\n",
    "import numpy as np"
   ]
  },
  {
   "cell_type": "code",
   "execution_count": 2,
   "id": "be14c873",
   "metadata": {
    "id": "be14c873"
   },
   "outputs": [],
   "source": [
    "# discrete Fourier transform\n",
    "from scipy.fft import fft"
   ]
  },
  {
   "cell_type": "markdown",
   "id": "8a6467c3",
   "metadata": {
    "id": "8a6467c3"
   },
   "source": [
    "# [0] create dataframe and Features (Only consider local predictor)"
   ]
  },
  {
   "cell_type": "markdown",
   "id": "d565cbf0",
   "metadata": {
    "id": "d565cbf0"
   },
   "source": [
    "### <span style=\"color:blue;\">Since data are fully fictional, to train a global predictor or a local predictor are without any practical difference; In addition, with the same framework one can easily enough train a global predictor; Therefore we only consider training a local predictor here"
   ]
  },
  {
   "cell_type": "markdown",
   "id": "1ba3944b",
   "metadata": {
    "id": "1ba3944b"
   },
   "source": [
    "### [0.1]for the expeirimental period, we create a (500 users)*(21 days) dataframe for key metrics X"
   ]
  },
  {
   "cell_type": "code",
   "execution_count": 3,
   "id": "955cb044",
   "metadata": {
    "id": "955cb044"
   },
   "outputs": [],
   "source": [
    "# We need to create two dataset, each one is of 21 days duration and of 500 datapoint,where 250 as treatment group\n",
    "np.random.seed(46)\n",
    "# df1 is the pre-experimental period and experimental period, to get local predictor\n",
    "df1 = pd.DataFrame(columns=['X'+str(i+1) for i in range(21)], index=range(500))\n",
    "df1.iloc[:250, :] = np.random.poisson(5, size=(250, 21)) + np.random.randint(0, 4, size=(250, 21))\n",
    "df1.iloc[250:, :] = np.random.poisson(8, size=(250, 21)) - np.random.randint(0, 4, size=(250, 21))"
   ]
  },
  {
   "cell_type": "markdown",
   "id": "358a94a6",
   "metadata": {
    "id": "358a94a6"
   },
   "source": [
    "### [0.2] Features for df1 (independent variable of prediction model)"
   ]
  },
  {
   "cell_type": "markdown",
   "id": "1Tz_qu2Q0dWe",
   "metadata": {
    "id": "1Tz_qu2Q0dWe"
   },
   "source": []
  },
  {
   "cell_type": "code",
   "execution_count": 4,
   "id": "9706e1c9",
   "metadata": {
    "id": "9706e1c9"
   },
   "outputs": [],
   "source": [
    "# Total\n",
    "df1['Total'] = df1.loc[:, 'X1':'X14'].sum(axis=1)\n",
    "# TS (X1~X14 are exisiting TS features))\n",
    "for i in range(2, 15):\n",
    "    col_name = f'TS{i}'\n",
    "    start_col = f'X{i}'\n",
    "    df1[col_name] = df1.loc[:, start_col:'X14'].sum(axis=1)\n",
    "# CT\n",
    "df1['tc'] = np.random.uniform(low=-14, high=15, size=500)  # creation time of the user cookie, maybe cleaned after exp start\n",
    "df1['tf'] = np.random.uniform(low=15, high=28, size=500)  # time of the first entrance of the user in the experiment\n",
    "df1['te'] = 15 # experiment begins at\n",
    "df1['CT1'] = df1['te'] - df1['tc']\n",
    "df1['CT2'] = df1['tf'] - df1['te']\n",
    "df1['CT3'] = df1['tf'] - df1['tc']\n",
    "# TrTS (to simplify we only use discrete Fourier transform to transform TS2 to TS14)\n",
    "for i in range(2, 15):\n",
    "    ts_col = f'TS{i}'\n",
    "    tr_col = f'Tr{ts_col}'\n",
    "    ts_data = df1[ts_col].values\n",
    "    tr_data = np.abs(fft(ts_data)) / len(ts_data) # Normalized DFT\n",
    "    df1[tr_col] = tr_data"
   ]
  },
  {
   "cell_type": "markdown",
   "id": "2c4a4b5d",
   "metadata": {
    "id": "2c4a4b5d"
   },
   "source": [
    "### [0.3] Sample data"
   ]
  },
  {
   "cell_type": "code",
   "execution_count": 5,
   "id": "f076fb88",
   "metadata": {
    "colab": {
     "base_uri": "https://localhost:8080/",
     "height": 237
    },
    "executionInfo": {
     "elapsed": 281,
     "status": "ok",
     "timestamp": 1683597219134,
     "user": {
      "displayName": "Junkai Ding",
      "userId": "00967652023189857125"
     },
     "user_tz": 240
    },
    "id": "f076fb88",
    "outputId": "33c949e6-6271-471c-b4d2-9628fac923a9"
   },
   "outputs": [
    {
     "data": {
      "text/html": [
       "<div>\n",
       "<style scoped>\n",
       "    .dataframe tbody tr th:only-of-type {\n",
       "        vertical-align: middle;\n",
       "    }\n",
       "\n",
       "    .dataframe tbody tr th {\n",
       "        vertical-align: top;\n",
       "    }\n",
       "\n",
       "    .dataframe thead th {\n",
       "        text-align: right;\n",
       "    }\n",
       "</style>\n",
       "<table border=\"1\" class=\"dataframe\">\n",
       "  <thead>\n",
       "    <tr style=\"text-align: right;\">\n",
       "      <th></th>\n",
       "      <th>X1</th>\n",
       "      <th>X2</th>\n",
       "      <th>X3</th>\n",
       "      <th>X4</th>\n",
       "      <th>X5</th>\n",
       "      <th>X6</th>\n",
       "      <th>X7</th>\n",
       "      <th>X8</th>\n",
       "      <th>X9</th>\n",
       "      <th>X10</th>\n",
       "      <th>...</th>\n",
       "      <th>X12</th>\n",
       "      <th>X13</th>\n",
       "      <th>X14</th>\n",
       "      <th>X15</th>\n",
       "      <th>X16</th>\n",
       "      <th>X17</th>\n",
       "      <th>X18</th>\n",
       "      <th>X19</th>\n",
       "      <th>X20</th>\n",
       "      <th>X21</th>\n",
       "    </tr>\n",
       "  </thead>\n",
       "  <tbody>\n",
       "    <tr>\n",
       "      <th>0</th>\n",
       "      <td>6</td>\n",
       "      <td>7</td>\n",
       "      <td>6</td>\n",
       "      <td>3</td>\n",
       "      <td>7</td>\n",
       "      <td>4</td>\n",
       "      <td>7</td>\n",
       "      <td>3</td>\n",
       "      <td>3</td>\n",
       "      <td>3</td>\n",
       "      <td>...</td>\n",
       "      <td>2</td>\n",
       "      <td>6</td>\n",
       "      <td>3</td>\n",
       "      <td>8</td>\n",
       "      <td>5</td>\n",
       "      <td>8</td>\n",
       "      <td>4</td>\n",
       "      <td>2</td>\n",
       "      <td>7</td>\n",
       "      <td>4</td>\n",
       "    </tr>\n",
       "    <tr>\n",
       "      <th>1</th>\n",
       "      <td>4</td>\n",
       "      <td>7</td>\n",
       "      <td>4</td>\n",
       "      <td>9</td>\n",
       "      <td>8</td>\n",
       "      <td>4</td>\n",
       "      <td>3</td>\n",
       "      <td>9</td>\n",
       "      <td>4</td>\n",
       "      <td>4</td>\n",
       "      <td>...</td>\n",
       "      <td>11</td>\n",
       "      <td>6</td>\n",
       "      <td>9</td>\n",
       "      <td>9</td>\n",
       "      <td>6</td>\n",
       "      <td>7</td>\n",
       "      <td>8</td>\n",
       "      <td>6</td>\n",
       "      <td>7</td>\n",
       "      <td>4</td>\n",
       "    </tr>\n",
       "    <tr>\n",
       "      <th>2</th>\n",
       "      <td>5</td>\n",
       "      <td>10</td>\n",
       "      <td>7</td>\n",
       "      <td>9</td>\n",
       "      <td>6</td>\n",
       "      <td>7</td>\n",
       "      <td>4</td>\n",
       "      <td>6</td>\n",
       "      <td>9</td>\n",
       "      <td>4</td>\n",
       "      <td>...</td>\n",
       "      <td>8</td>\n",
       "      <td>2</td>\n",
       "      <td>4</td>\n",
       "      <td>4</td>\n",
       "      <td>4</td>\n",
       "      <td>2</td>\n",
       "      <td>5</td>\n",
       "      <td>10</td>\n",
       "      <td>3</td>\n",
       "      <td>7</td>\n",
       "    </tr>\n",
       "  </tbody>\n",
       "</table>\n",
       "<p>3 rows × 21 columns</p>\n",
       "</div>"
      ],
      "text/plain": [
       "  X1  X2 X3 X4 X5 X6 X7 X8 X9 X10  ... X12 X13 X14 X15 X16 X17 X18 X19 X20 X21\n",
       "0  6   7  6  3  7  4  7  3  3   3  ...   2   6   3   8   5   8   4   2   7   4\n",
       "1  4   7  4  9  8  4  3  9  4   4  ...  11   6   9   9   6   7   8   6   7   4\n",
       "2  5  10  7  9  6  7  4  6  9   4  ...   8   2   4   4   4   2   5  10   3   7\n",
       "\n",
       "[3 rows x 21 columns]"
      ]
     },
     "execution_count": 5,
     "metadata": {},
     "output_type": "execute_result"
    }
   ],
   "source": [
    "# Metrics\n",
    "df1.iloc[0:3, 0:21]"
   ]
  },
  {
   "cell_type": "code",
   "execution_count": 6,
   "id": "bdf333ec",
   "metadata": {
    "colab": {
     "base_uri": "https://localhost:8080/",
     "height": 207
    },
    "executionInfo": {
     "elapsed": 159,
     "status": "ok",
     "timestamp": 1683597220299,
     "user": {
      "displayName": "Junkai Ding",
      "userId": "00967652023189857125"
     },
     "user_tz": 240
    },
    "id": "bdf333ec",
    "outputId": "381f40d6-cdc6-45bb-ffc4-9c5875795280"
   },
   "outputs": [
    {
     "data": {
      "text/html": [
       "<div>\n",
       "<style scoped>\n",
       "    .dataframe tbody tr th:only-of-type {\n",
       "        vertical-align: middle;\n",
       "    }\n",
       "\n",
       "    .dataframe tbody tr th {\n",
       "        vertical-align: top;\n",
       "    }\n",
       "\n",
       "    .dataframe thead th {\n",
       "        text-align: right;\n",
       "    }\n",
       "</style>\n",
       "<table border=\"1\" class=\"dataframe\">\n",
       "  <thead>\n",
       "    <tr style=\"text-align: right;\">\n",
       "      <th></th>\n",
       "      <th>TS2</th>\n",
       "      <th>TS3</th>\n",
       "      <th>TS4</th>\n",
       "      <th>TS5</th>\n",
       "      <th>TS6</th>\n",
       "      <th>TS7</th>\n",
       "      <th>TS8</th>\n",
       "      <th>TS9</th>\n",
       "      <th>TS10</th>\n",
       "      <th>TS11</th>\n",
       "      <th>TS12</th>\n",
       "      <th>TS13</th>\n",
       "      <th>TS14</th>\n",
       "      <th>tc</th>\n",
       "      <th>tf</th>\n",
       "      <th>te</th>\n",
       "      <th>CT1</th>\n",
       "      <th>CT2</th>\n",
       "      <th>CT3</th>\n",
       "    </tr>\n",
       "  </thead>\n",
       "  <tbody>\n",
       "    <tr>\n",
       "      <th>0</th>\n",
       "      <td>57.0</td>\n",
       "      <td>50.0</td>\n",
       "      <td>44.0</td>\n",
       "      <td>41.0</td>\n",
       "      <td>34.0</td>\n",
       "      <td>30.0</td>\n",
       "      <td>23.0</td>\n",
       "      <td>20.0</td>\n",
       "      <td>17.0</td>\n",
       "      <td>14.0</td>\n",
       "      <td>11.0</td>\n",
       "      <td>9.0</td>\n",
       "      <td>3.0</td>\n",
       "      <td>10.435050</td>\n",
       "      <td>23.802408</td>\n",
       "      <td>15</td>\n",
       "      <td>4.564950</td>\n",
       "      <td>8.802408</td>\n",
       "      <td>13.367358</td>\n",
       "    </tr>\n",
       "    <tr>\n",
       "      <th>1</th>\n",
       "      <td>82.0</td>\n",
       "      <td>75.0</td>\n",
       "      <td>71.0</td>\n",
       "      <td>62.0</td>\n",
       "      <td>54.0</td>\n",
       "      <td>50.0</td>\n",
       "      <td>47.0</td>\n",
       "      <td>38.0</td>\n",
       "      <td>34.0</td>\n",
       "      <td>30.0</td>\n",
       "      <td>26.0</td>\n",
       "      <td>15.0</td>\n",
       "      <td>9.0</td>\n",
       "      <td>6.472804</td>\n",
       "      <td>25.123187</td>\n",
       "      <td>15</td>\n",
       "      <td>8.527196</td>\n",
       "      <td>10.123187</td>\n",
       "      <td>18.650383</td>\n",
       "    </tr>\n",
       "    <tr>\n",
       "      <th>2</th>\n",
       "      <td>82.0</td>\n",
       "      <td>72.0</td>\n",
       "      <td>65.0</td>\n",
       "      <td>56.0</td>\n",
       "      <td>50.0</td>\n",
       "      <td>43.0</td>\n",
       "      <td>39.0</td>\n",
       "      <td>33.0</td>\n",
       "      <td>24.0</td>\n",
       "      <td>20.0</td>\n",
       "      <td>14.0</td>\n",
       "      <td>6.0</td>\n",
       "      <td>4.0</td>\n",
       "      <td>-9.325639</td>\n",
       "      <td>20.950871</td>\n",
       "      <td>15</td>\n",
       "      <td>24.325639</td>\n",
       "      <td>5.950871</td>\n",
       "      <td>30.276510</td>\n",
       "    </tr>\n",
       "  </tbody>\n",
       "</table>\n",
       "</div>"
      ],
      "text/plain": [
       "    TS2   TS3   TS4   TS5   TS6   TS7   TS8   TS9  TS10  TS11  TS12  TS13  \\\n",
       "0  57.0  50.0  44.0  41.0  34.0  30.0  23.0  20.0  17.0  14.0  11.0   9.0   \n",
       "1  82.0  75.0  71.0  62.0  54.0  50.0  47.0  38.0  34.0  30.0  26.0  15.0   \n",
       "2  82.0  72.0  65.0  56.0  50.0  43.0  39.0  33.0  24.0  20.0  14.0   6.0   \n",
       "\n",
       "   TS14         tc         tf  te        CT1        CT2        CT3  \n",
       "0   3.0  10.435050  23.802408  15   4.564950   8.802408  13.367358  \n",
       "1   9.0   6.472804  25.123187  15   8.527196  10.123187  18.650383  \n",
       "2   4.0  -9.325639  20.950871  15  24.325639   5.950871  30.276510  "
      ]
     },
     "execution_count": 6,
     "metadata": {},
     "output_type": "execute_result"
    }
   ],
   "source": [
    "# Features\n",
    "df1.iloc[0:3, 22:41]"
   ]
  },
  {
   "cell_type": "code",
   "execution_count": 7,
   "id": "1c8a6080",
   "metadata": {
    "colab": {
     "base_uri": "https://localhost:8080/",
     "height": 207
    },
    "executionInfo": {
     "elapsed": 103,
     "status": "ok",
     "timestamp": 1683597222160,
     "user": {
      "displayName": "Junkai Ding",
      "userId": "00967652023189857125"
     },
     "user_tz": 240
    },
    "id": "1c8a6080",
    "outputId": "71b9a984-fd1d-4a3d-f2e4-34b4408f8c5a"
   },
   "outputs": [
    {
     "data": {
      "text/html": [
       "<div>\n",
       "<style scoped>\n",
       "    .dataframe tbody tr th:only-of-type {\n",
       "        vertical-align: middle;\n",
       "    }\n",
       "\n",
       "    .dataframe tbody tr th {\n",
       "        vertical-align: top;\n",
       "    }\n",
       "\n",
       "    .dataframe thead th {\n",
       "        text-align: right;\n",
       "    }\n",
       "</style>\n",
       "<table border=\"1\" class=\"dataframe\">\n",
       "  <thead>\n",
       "    <tr style=\"text-align: right;\">\n",
       "      <th></th>\n",
       "      <th>TrTS3</th>\n",
       "      <th>TrTS4</th>\n",
       "      <th>TrTS5</th>\n",
       "      <th>TrTS6</th>\n",
       "      <th>TrTS7</th>\n",
       "      <th>TrTS8</th>\n",
       "      <th>TrTS9</th>\n",
       "      <th>TrTS10</th>\n",
       "      <th>TrTS11</th>\n",
       "      <th>TrTS12</th>\n",
       "      <th>TrTS13</th>\n",
       "      <th>TrTS14</th>\n",
       "    </tr>\n",
       "  </thead>\n",
       "  <tbody>\n",
       "    <tr>\n",
       "      <th>0</th>\n",
       "      <td>78.274000</td>\n",
       "      <td>71.898000</td>\n",
       "      <td>65.318000</td>\n",
       "      <td>58.762000</td>\n",
       "      <td>52.400000</td>\n",
       "      <td>45.954000</td>\n",
       "      <td>39.106000</td>\n",
       "      <td>32.400000</td>\n",
       "      <td>25.838000</td>\n",
       "      <td>19.292000</td>\n",
       "      <td>12.744000</td>\n",
       "      <td>6.388000</td>\n",
       "    </tr>\n",
       "    <tr>\n",
       "      <th>1</th>\n",
       "      <td>0.143186</td>\n",
       "      <td>0.107638</td>\n",
       "      <td>0.153270</td>\n",
       "      <td>0.213820</td>\n",
       "      <td>0.328152</td>\n",
       "      <td>0.247500</td>\n",
       "      <td>0.166506</td>\n",
       "      <td>0.254937</td>\n",
       "      <td>0.216211</td>\n",
       "      <td>0.258194</td>\n",
       "      <td>0.191700</td>\n",
       "      <td>0.093245</td>\n",
       "    </tr>\n",
       "    <tr>\n",
       "      <th>2</th>\n",
       "      <td>0.448154</td>\n",
       "      <td>0.349335</td>\n",
       "      <td>0.312764</td>\n",
       "      <td>0.149984</td>\n",
       "      <td>0.161768</td>\n",
       "      <td>0.135436</td>\n",
       "      <td>0.025521</td>\n",
       "      <td>0.058356</td>\n",
       "      <td>0.101730</td>\n",
       "      <td>0.236970</td>\n",
       "      <td>0.131162</td>\n",
       "      <td>0.153359</td>\n",
       "    </tr>\n",
       "  </tbody>\n",
       "</table>\n",
       "</div>"
      ],
      "text/plain": [
       "       TrTS3      TrTS4      TrTS5      TrTS6      TrTS7      TrTS8  \\\n",
       "0  78.274000  71.898000  65.318000  58.762000  52.400000  45.954000   \n",
       "1   0.143186   0.107638   0.153270   0.213820   0.328152   0.247500   \n",
       "2   0.448154   0.349335   0.312764   0.149984   0.161768   0.135436   \n",
       "\n",
       "       TrTS9     TrTS10     TrTS11     TrTS12     TrTS13    TrTS14  \n",
       "0  39.106000  32.400000  25.838000  19.292000  12.744000  6.388000  \n",
       "1   0.166506   0.254937   0.216211   0.258194   0.191700  0.093245  \n",
       "2   0.025521   0.058356   0.101730   0.236970   0.131162  0.153359  "
      ]
     },
     "execution_count": 7,
     "metadata": {},
     "output_type": "execute_result"
    }
   ],
   "source": [
    "# Features\n",
    "df1.iloc[0:3, 42:]"
   ]
  },
  {
   "cell_type": "markdown",
   "id": "1a04585d",
   "metadata": {
    "id": "1a04585d"
   },
   "source": [
    "### [0.4] Variance of metric"
   ]
  },
  {
   "cell_type": "code",
   "execution_count": 8,
   "id": "0a5e3471",
   "metadata": {
    "colab": {
     "base_uri": "https://localhost:8080/"
    },
    "executionInfo": {
     "elapsed": 128,
     "status": "ok",
     "timestamp": 1683597223154,
     "user": {
      "displayName": "Junkai Ding",
      "userId": "00967652023189857125"
     },
     "user_tz": 240
    },
    "id": "0a5e3471",
    "outputId": "992f2976-14fc-4f6e-f292-69751b441d08"
   },
   "outputs": [
    {
     "name": "stdout",
     "output_type": "stream",
     "text": [
      "Baseline varaiance is :  7.4751362448979615\n"
     ]
    }
   ],
   "source": [
    "# variance of metirc is the target of our study\n",
    "y_triangle = []\n",
    "for i in range(15, 22):\n",
    "    y_triangle = y_triangle + list(df1['X{}'.format(i)])\n",
    "variance_baseline = np.var(y_triangle)\n",
    "print(\"Baseline varaiance is : \", variance_baseline)"
   ]
  },
  {
   "cell_type": "markdown",
   "id": "b3cb93aa",
   "metadata": {
    "id": "b3cb93aa"
   },
   "source": [
    "# [1]  Linear Regression Model & GBDT"
   ]
  },
  {
   "cell_type": "markdown",
   "id": "d6d4d18e",
   "metadata": {
    "id": "d6d4d18e"
   },
   "source": [
    "### <span style=\"color:blue;\">In this section we train 4 Linear Regression models and 4 Friedman’s gradient boosted decision trees, to control nRMSE, so as to decrease the variance of the metrics, and therefore furtherly raise the power of AB-test"
   ]
  },
  {
   "cell_type": "markdown",
   "id": "605db71e",
   "metadata": {
    "id": "605db71e"
   },
   "source": [
    "## [1.1] Model Baseline: Linear Regression"
   ]
  },
  {
   "cell_type": "code",
   "execution_count": 9,
   "id": "3f1b3ea0",
   "metadata": {
    "id": "3f1b3ea0"
   },
   "outputs": [],
   "source": [
    "from sklearn.linear_model import LinearRegression"
   ]
  },
  {
   "cell_type": "markdown",
   "id": "c780dce3",
   "metadata": {
    "id": "c780dce3"
   },
   "source": [
    "### [1.1.1] Baseline1: linear prediction model  on feature \"Total\"(LR@Total)"
   ]
  },
  {
   "cell_type": "code",
   "execution_count": 10,
   "id": "26ea40b6",
   "metadata": {
    "colab": {
     "base_uri": "https://localhost:8080/"
    },
    "executionInfo": {
     "elapsed": 3,
     "status": "ok",
     "timestamp": 1683597228689,
     "user": {
      "displayName": "Junkai Ding",
      "userId": "00967652023189857125"
     },
     "user_tz": 240
    },
    "id": "26ea40b6",
    "outputId": "3c4c2736-700e-426a-d0ea-5650ee3d01a8"
   },
   "outputs": [
    {
     "name": "stdout",
     "output_type": "stream",
     "text": [
      "Variance for baseline model 1:  7.450328522490009\n",
      "nRMSE for baseline model 1:  0.4197614778668067\n"
     ]
    }
   ],
   "source": [
    "# Only include 'Total'\n",
    "X = df1['Total'].values.reshape(-1, 1)\n",
    "MSE = 0\n",
    "mean = 0\n",
    "y_triangle = [] # the novel metric introduce in this paper, equals to X - X~\n",
    "df_LR_Total = pd.DataFrame()\n",
    "for i in range(15, 22):\n",
    "    Y = df1['X{}'.format(i)].values.reshape(-1, 1)\n",
    "    model = LinearRegression()\n",
    "    model.fit(X, Y)\n",
    "    Y_pred = model.predict(X)\n",
    "    error = np.square(Y - Y_pred).sum()\n",
    "    MSE = MSE + error\n",
    "    mean = mean + Y.sum()\n",
    "    y_triangle = y_triangle + list(Y-Y_pred)\n",
    "    df_LR_Total[f'X{i-14}'] = Y_pred.reshape(-1)\n",
    "RMSE_111 = np.sqrt(MSE/(500*7))\n",
    "nRMSE_111 = RMSE_111/(mean/(500*7))\n",
    "variance_111 = np.var(y_triangle)\n",
    "print('Variance for baseline model 1: ', variance_111)\n",
    "print('nRMSE for baseline model 1: ', nRMSE_111)"
   ]
  },
  {
   "cell_type": "markdown",
   "id": "adfb6dfb",
   "metadata": {
    "id": "adfb6dfb"
   },
   "source": [
    "### [1.1.2] Baseline2: linear prediction model  on feature \"Total\" and \"TS\"(LR@Total∪TS)"
   ]
  },
  {
   "cell_type": "code",
   "execution_count": 11,
   "id": "9e3d382d",
   "metadata": {
    "colab": {
     "base_uri": "https://localhost:8080/"
    },
    "executionInfo": {
     "elapsed": 463,
     "status": "ok",
     "timestamp": 1683597229150,
     "user": {
      "displayName": "Junkai Ding",
      "userId": "00967652023189857125"
     },
     "user_tz": 240
    },
    "id": "9e3d382d",
    "outputId": "0cd47adf-80a0-43fe-fa03-372436fcc9fa"
   },
   "outputs": [
    {
     "name": "stdout",
     "output_type": "stream",
     "text": [
      "Variance for baseline model 2:  6.211796557738894\n",
      "nRMSE for baseline model 2:  0.19164381913598585\n"
     ]
    }
   ],
   "source": [
    "# X1~X14; Total; TS2~TS14 as independen variable\n",
    "X = df1.iloc[:, list(range(1, 15)) + list(range(22, 35))]\n",
    "MSE = 0\n",
    "y_triangle = [] # the novel metric introduce in this paper, equals to X - X~\n",
    "for i in range(15, 22):\n",
    "    Y = df1['X{}'.format(i)].values.reshape(-1, 1)\n",
    "    model = LinearRegression()\n",
    "    model.fit(X, Y)\n",
    "    Y_pred = model.predict(X)\n",
    "    error = np.square(Y - Y_pred).sum()\n",
    "    MSE = MSE + error\n",
    "    mean = mean + Y.sum()\n",
    "    y_triangle = y_triangle + list(Y-Y_pred)\n",
    "RMSE_112 = np.sqrt(MSE/(500*7))\n",
    "nRMSE_112 = RMSE_112/(mean/(500*7))\n",
    "variance_112 = np.var(y_triangle)\n",
    "print('Variance for baseline model 2: ', variance_112)\n",
    "print('nRMSE for baseline model 2: ', nRMSE_112)"
   ]
  },
  {
   "cell_type": "markdown",
   "id": "85de6933",
   "metadata": {
    "id": "85de6933"
   },
   "source": [
    "### [1.1.3] Baseline3: linear prediction model on feature \"Total\" and \"TS\" and \"CT\"(LR@Total∪TS∪CT)"
   ]
  },
  {
   "cell_type": "code",
   "execution_count": 12,
   "id": "81417c6e",
   "metadata": {
    "colab": {
     "base_uri": "https://localhost:8080/"
    },
    "executionInfo": {
     "elapsed": 641,
     "status": "ok",
     "timestamp": 1683597229790,
     "user": {
      "displayName": "Junkai Ding",
      "userId": "00967652023189857125"
     },
     "user_tz": 240
    },
    "id": "81417c6e",
    "outputId": "d030cdaf-2164-4769-b699-6dd3544156e7"
   },
   "outputs": [
    {
     "name": "stdout",
     "output_type": "stream",
     "text": [
      "Variance for baseline model 3:  6.049716460986249\n",
      "nRMSE for baseline model 3:  0.12608438864991559\n"
     ]
    }
   ],
   "source": [
    "# X1~X14; Total; TS2~TS14, TrTS as independent variable\n",
    "X = df1.iloc[:, list(range(1, 15)) + list(range(22, 35)) + list(range(41, 54))]\n",
    "MSE = 0\n",
    "y_triangle = [] # the novel metric introduce in this paper, equals to X - X~\n",
    "for i in range(15, 22):\n",
    "    Y = df1['X{}'.format(i)].values.reshape(-1, 1)\n",
    "    model = LinearRegression()\n",
    "    model.fit(X, Y)\n",
    "    Y_pred = model.predict(X)\n",
    "    error = np.square(Y - Y_pred).sum()\n",
    "    MSE = MSE + error\n",
    "    mean = mean + Y.sum()\n",
    "    y_triangle = y_triangle + list(Y-Y_pred)\n",
    "RMSE_113 = np.sqrt(MSE/(500*7))\n",
    "nRMSE_113 = RMSE_113/(mean/(500*7))\n",
    "variance_113= np.var(y_triangle)\n",
    "print('Variance for baseline model 3: ', variance_113)\n",
    "print('nRMSE for baseline model 3: ', nRMSE_113)"
   ]
  },
  {
   "cell_type": "markdown",
   "id": "85c0882a",
   "metadata": {
    "id": "85c0882a"
   },
   "source": [
    "### [1.1.4] Baseline4: linear prediction model  on feature \"Total\"(LR@All)"
   ]
  },
  {
   "cell_type": "code",
   "execution_count": 13,
   "id": "38db386e",
   "metadata": {
    "colab": {
     "base_uri": "https://localhost:8080/"
    },
    "executionInfo": {
     "elapsed": 924,
     "status": "ok",
     "timestamp": 1683597231285,
     "user": {
      "displayName": "Junkai Ding",
      "userId": "00967652023189857125"
     },
     "user_tz": 240
    },
    "id": "38db386e",
    "outputId": "c486e106-19cf-464f-d0e1-b19f484df8b5"
   },
   "outputs": [
    {
     "name": "stdout",
     "output_type": "stream",
     "text": [
      "Variance for baseline model 4:  6.041122419325466\n",
      "nRMSE for baseline model 4:  0.0944964056742277\n"
     ]
    }
   ],
   "source": [
    "# X1~X14; Total; TS2~TS14, CT1~3; TrTS as independent variable\n",
    "X = df1.iloc[:, list(range(1, 15)) + list(range(22, 35)) + list(range(38, 54))]\n",
    "MSE = 0\n",
    "y_triangle = [] # the novel metric introduce in this paper, equals to X - X~\n",
    "for i in range(15, 22):\n",
    "    Y = df1['X{}'.format(i)].values.reshape(-1, 1)\n",
    "    model = LinearRegression()\n",
    "    model.fit(X, Y)\n",
    "    Y_pred = model.predict(X)\n",
    "    error = np.square(Y - Y_pred).sum()\n",
    "    MSE = MSE + error\n",
    "    mean = mean + Y.sum()\n",
    "    y_triangle = y_triangle + list(Y-Y_pred)\n",
    "RMSE_114 = np.sqrt(MSE/(500*7))\n",
    "nRMSE_114 = RMSE_114/(mean/(500*7))\n",
    "variance_114 = np.var(y_triangle)\n",
    "print('Variance for baseline model 4: ', variance_114)\n",
    "print('nRMSE for baseline model 4: ', nRMSE_114)"
   ]
  },
  {
   "cell_type": "markdown",
   "id": "4311567a",
   "metadata": {
    "id": "4311567a"
   },
   "source": [
    "## [1.2]  Friedman’s gradient boosted decision trees"
   ]
  },
  {
   "cell_type": "code",
   "execution_count": 14,
   "id": "7d6442dc",
   "metadata": {
    "id": "7d6442dc"
   },
   "outputs": [],
   "source": [
    "from sklearn.ensemble import GradientBoostingRegressor\n",
    "from sklearn.preprocessing import KBinsDiscretizer"
   ]
  },
  {
   "cell_type": "markdown",
   "id": "4f123930",
   "metadata": {
    "id": "4f123930"
   },
   "source": [
    "### [1.2.1]  GBDT model on feature \"Total\" (DT@Total)"
   ]
  },
  {
   "cell_type": "code",
   "execution_count": 15,
   "id": "d372967b",
   "metadata": {
    "colab": {
     "base_uri": "https://localhost:8080/"
    },
    "executionInfo": {
     "elapsed": 3645,
     "status": "ok",
     "timestamp": 1683597236565,
     "user": {
      "displayName": "Junkai Ding",
      "userId": "00967652023189857125"
     },
     "user_tz": 240
    },
    "id": "d372967b",
    "outputId": "7134f672-be2b-45df-f4e8-089202828593"
   },
   "outputs": [
    {
     "name": "stderr",
     "output_type": "stream",
     "text": [
      "C:\\Users\\Riho\\anaconda3\\envs\\env_ds_310\\lib\\site-packages\\sklearn\\preprocessing\\_discretization.py:291: UserWarning: Bins whose width are too small (i.e., <= 1e-8) in feature 0 are removed. Consider decreasing the number of bins.\n",
      "  warnings.warn(\n"
     ]
    },
    {
     "name": "stdout",
     "output_type": "stream",
     "text": [
      "Variance for GBDT model 1:  7.074251503770762\n",
      "nRMSE for GBDT model 1:  0.40902995690294247\n"
     ]
    }
   ],
   "source": [
    "X = df1['Total'].values.reshape(-1, 1)\n",
    "# The binning strategy for the features is with n_bins 4, instead of 64 in paper because our data is much less than original\n",
    "binning = KBinsDiscretizer(n_bins=32, encode='ordinal', strategy='quantile')\n",
    "X_bin = binning.fit_transform(X)\n",
    "MSE = 0\n",
    "mean = 0\n",
    "y_triangle = [] # the novel metric introduce in this paper, equals to X - X~\n",
    "for i in range(15, 22):\n",
    "    Y = df1['X{}'.format(i)].values\n",
    "    # loss function define as squared_error, which is MSE\n",
    "    model = GradientBoostingRegressor(n_estimators=100, max_depth=3, learning_rate=0.1, loss='squared_error')\n",
    "    model.fit(X_bin, Y)\n",
    "    Y_pred = model.predict(X_bin)\n",
    "    error = np.square(Y - Y_pred).sum()\n",
    "    MSE = MSE + error\n",
    "    mean = mean + Y.sum()\n",
    "    y_triangle = y_triangle + list(Y - Y_pred)\n",
    "RMSE_121 = np.sqrt(MSE/(500*7))\n",
    "nRMSE_121 = RMSE_121/(mean/(500*7))\n",
    "variance_121 = np.var(y_triangle)\n",
    "print('Variance for GBDT model 1: ', variance_121)\n",
    "print('nRMSE for GBDT model 1: ', nRMSE_121)"
   ]
  },
  {
   "cell_type": "markdown",
   "id": "f29cc43a",
   "metadata": {
    "id": "f29cc43a"
   },
   "source": [
    "### [1.2.2] GBDT model on feature \"Total\" and \"TS\"(DT@Total∪TS)"
   ]
  },
  {
   "cell_type": "code",
   "execution_count": 16,
   "id": "b501fa60",
   "metadata": {
    "colab": {
     "base_uri": "https://localhost:8080/"
    },
    "executionInfo": {
     "elapsed": 3302,
     "status": "ok",
     "timestamp": 1683597239865,
     "user": {
      "displayName": "Junkai Ding",
      "userId": "00967652023189857125"
     },
     "user_tz": 240
    },
    "id": "b501fa60",
    "outputId": "bad6f1ee-2b77-4688-ccd5-e6cdaf95c14d"
   },
   "outputs": [
    {
     "name": "stdout",
     "output_type": "stream",
     "text": [
      "Variance for GBDT model 2:  3.022212606086036\n",
      "nRMSE for GBDT model 2:  0.26734826800441835\n"
     ]
    }
   ],
   "source": [
    "# X1~X14; Total; TS2~TS14 as independen variable\n",
    "X = df1.iloc[:, list(range(1, 15)) + list(range(22, 35))]\n",
    "# The binning strategy for the features is with n_bins 4, instead of 64 in paper because our data is much less than original\n",
    "binning = KBinsDiscretizer(n_bins=4, encode='ordinal', strategy='quantile')\n",
    "X_bin = binning.fit_transform(X)\n",
    "MSE = 0\n",
    "mean = 0\n",
    "y_triangle = [] # the novel metric introduce in this paper, equals to X - X~\n",
    "for i in range(15, 22):\n",
    "    Y = df1['X{}'.format(i)].values\n",
    "    # loss function define as squared_error, which is MSE\n",
    "    model = GradientBoostingRegressor(n_estimators=100, max_depth=3, learning_rate=0.1, loss='squared_error')\n",
    "    model.fit(X_bin, Y)\n",
    "    Y_pred = model.predict(X_bin)\n",
    "    error = np.square(Y - Y_pred).sum()\n",
    "    MSE = MSE + error\n",
    "    mean = mean + Y.sum()\n",
    "    y_triangle = y_triangle + list(Y - Y_pred)\n",
    "RMSE_122 = np.sqrt(MSE/(500*7))\n",
    "nRMSE_122 = RMSE_122/(mean/(500*7))\n",
    "variance_122 = np.var(y_triangle)\n",
    "print('Variance for GBDT model 2: ', variance_122)\n",
    "print('nRMSE for GBDT model 2: ', nRMSE_122)"
   ]
  },
  {
   "cell_type": "markdown",
   "id": "b20124e5",
   "metadata": {
    "id": "b20124e5"
   },
   "source": [
    "### [1.2.3] GBDT model on feature \"Total\" and \"TS\" and \"CT\"(DT@Total∪TS∪CT)"
   ]
  },
  {
   "cell_type": "code",
   "execution_count": 17,
   "id": "246f2e6d",
   "metadata": {
    "colab": {
     "base_uri": "https://localhost:8080/"
    },
    "executionInfo": {
     "elapsed": 2819,
     "status": "ok",
     "timestamp": 1683597242682,
     "user": {
      "displayName": "Junkai Ding",
      "userId": "00967652023189857125"
     },
     "user_tz": 240
    },
    "id": "246f2e6d",
    "outputId": "13c898db-2e04-4d58-fd4d-5dab382b0cdc"
   },
   "outputs": [
    {
     "name": "stdout",
     "output_type": "stream",
     "text": [
      "Variance for GBDT model 3:  2.5367526405679004\n",
      "nRMSE for GBDT model 3:  0.2449367376349107\n"
     ]
    }
   ],
   "source": [
    "# X1~X14; Total; TS2~TS14, TrTS as independent variable\n",
    "X = df1.iloc[:, list(range(1, 15)) + list(range(22, 35)) + list(range(41, 54))]\n",
    "# The binning strategy for the features is with n_bins 4, instead of 64 in paper because our data is much less than original\n",
    "binning = KBinsDiscretizer(n_bins=4, encode='ordinal', strategy='quantile')\n",
    "X_bin = binning.fit_transform(X)\n",
    "MSE = 0\n",
    "mean = 0\n",
    "y_triangle = [] # the novel metric introduce in this paper, equals to X - X~\n",
    "for i in range(15, 22):\n",
    "    Y = df1['X{}'.format(i)].values\n",
    "    # loss function define as squared_error, which is MSE\n",
    "    model = GradientBoostingRegressor(n_estimators=100, max_depth=3, learning_rate=0.1, loss='squared_error')\n",
    "    model.fit(X_bin, Y)\n",
    "    Y_pred = model.predict(X_bin)\n",
    "    error = np.square(Y - Y_pred).sum()\n",
    "    MSE = MSE + error\n",
    "    mean = mean + Y.sum()\n",
    "    y_triangle = y_triangle + list(Y - Y_pred)\n",
    "RMSE_123 = np.sqrt(MSE/(500*7))\n",
    "nRMSE_123 = RMSE_123/(mean/(500*7))\n",
    "variance_123 = np.var(y_triangle)\n",
    "print('Variance for GBDT model 3: ', variance_123)\n",
    "print('nRMSE for GBDT model 3: ', nRMSE_123)"
   ]
  },
  {
   "cell_type": "markdown",
   "id": "0cde128d",
   "metadata": {
    "id": "0cde128d"
   },
   "source": [
    "### [1.2.4] GBDT model on feature \"Total\" and \"TS\" and \"CT\"(DT@Total∪TS∪CT)"
   ]
  },
  {
   "cell_type": "code",
   "execution_count": 18,
   "id": "5b8abcde",
   "metadata": {
    "colab": {
     "base_uri": "https://localhost:8080/"
    },
    "executionInfo": {
     "elapsed": 2872,
     "status": "ok",
     "timestamp": 1683597245552,
     "user": {
      "displayName": "Junkai Ding",
      "userId": "00967652023189857125"
     },
     "user_tz": 240
    },
    "id": "5b8abcde",
    "outputId": "b31f2500-e6f5-4f01-8905-52d028ac648e"
   },
   "outputs": [
    {
     "name": "stdout",
     "output_type": "stream",
     "text": [
      "Variance for GBDT model 4:  2.432676123045691\n",
      "nRMSE for GBDT model 4:  0.23985955012033208\n"
     ]
    }
   ],
   "source": [
    "# X1~X14; Total; TS2~TS14, CT1~3; TrTS as independent variable\n",
    "X = df1.iloc[:, list(range(1, 15)) + list(range(22, 35)) + list(range(38, 54))]\n",
    "# The binning strategy for the features is with n_bins 4, instead of 64 in paper because our data is much less than original\n",
    "binning = KBinsDiscretizer(n_bins=4, encode='ordinal', strategy='quantile')\n",
    "X_bin = binning.fit_transform(X)\n",
    "MSE = 0\n",
    "mean = 0\n",
    "y_triangle = [] # the novel metric introduce in this paper, equals to X - X~\n",
    "df_GBDT_ALL = pd.DataFrame()\n",
    "for i in range(15, 22):\n",
    "    Y = df1['X{}'.format(i)].values\n",
    "    # loss function define as squared_error, which is MSE\n",
    "    model = GradientBoostingRegressor(n_estimators=100, max_depth=3, learning_rate=0.1, loss='squared_error')\n",
    "    model.fit(X_bin, Y)\n",
    "    Y_pred = model.predict(X_bin)\n",
    "    error = np.square(Y - Y_pred).sum()\n",
    "    MSE = MSE + error\n",
    "    mean = mean + Y.sum()\n",
    "    y_triangle = y_triangle + list(Y - Y_pred)\n",
    "    df_GBDT_ALL[f'X{i-14}'] = Y_pred.reshape(-1)\n",
    "RMSE_124 = np.sqrt(MSE/(500*7))\n",
    "nRMSE_124 = RMSE_124/(mean/(500*7))\n",
    "variance_124 = np.var(y_triangle)\n",
    "print('Variance for GBDT model 4: ', variance_124)\n",
    "print('nRMSE for GBDT model 4: ', nRMSE_124)"
   ]
  },
  {
   "cell_type": "markdown",
   "id": "567e98d1",
   "metadata": {
    "id": "567e98d1"
   },
   "source": [
    "# [3] Tables summarize the result"
   ]
  },
  {
   "cell_type": "markdown",
   "id": "c7afcbdd",
   "metadata": {
    "id": "c7afcbdd"
   },
   "source": [
    "### Table 1: Comparison of feature sets and models in terms of the average value of nRMSE(relative improvement w.r.t. the first row)"
   ]
  },
  {
   "cell_type": "code",
   "execution_count": 19,
   "id": "e3484e0e",
   "metadata": {
    "colab": {
     "base_uri": "https://localhost:8080/",
     "height": 236
    },
    "executionInfo": {
     "elapsed": 5,
     "status": "ok",
     "timestamp": 1683597245553,
     "user": {
      "displayName": "Junkai Ding",
      "userId": "00967652023189857125"
     },
     "user_tz": 240
    },
    "id": "e3484e0e",
    "outputId": "142bfba5-b2b3-4a41-e0b8-276344992eac"
   },
   "outputs": [
    {
     "data": {
      "text/html": [
       "<div>\n",
       "<style scoped>\n",
       "    .dataframe tbody tr th:only-of-type {\n",
       "        vertical-align: middle;\n",
       "    }\n",
       "\n",
       "    .dataframe tbody tr th {\n",
       "        vertical-align: top;\n",
       "    }\n",
       "\n",
       "    .dataframe thead th {\n",
       "        text-align: right;\n",
       "    }\n",
       "</style>\n",
       "<table border=\"1\" class=\"dataframe\">\n",
       "  <thead>\n",
       "    <tr style=\"text-align: right;\">\n",
       "      <th></th>\n",
       "      <th>Feature Set</th>\n",
       "      <th>LR nRMSE</th>\n",
       "      <th>LR nRMSE %</th>\n",
       "      <th>LR nRMSE w.r.t previous row</th>\n",
       "      <th>GBDT nRMSE</th>\n",
       "      <th>GBDT nRMSE %</th>\n",
       "      <th>GBDT nRMSE w.r.t previous row</th>\n",
       "    </tr>\n",
       "  </thead>\n",
       "  <tbody>\n",
       "    <tr>\n",
       "      <th>0</th>\n",
       "      <td>Total</td>\n",
       "      <td>0.419761</td>\n",
       "      <td>100.00%</td>\n",
       "      <td>0.00%</td>\n",
       "      <td>0.409030</td>\n",
       "      <td>100.00%</td>\n",
       "      <td>0.00%</td>\n",
       "    </tr>\n",
       "    <tr>\n",
       "      <th>1</th>\n",
       "      <td>Total∪TS</td>\n",
       "      <td>0.191644</td>\n",
       "      <td>45.66%</td>\n",
       "      <td>-54.34%</td>\n",
       "      <td>0.267348</td>\n",
       "      <td>65.36%</td>\n",
       "      <td>-34.64%</td>\n",
       "    </tr>\n",
       "    <tr>\n",
       "      <th>2</th>\n",
       "      <td>Total∪TS∪CT</td>\n",
       "      <td>0.126084</td>\n",
       "      <td>30.04%</td>\n",
       "      <td>-15.62%</td>\n",
       "      <td>0.244937</td>\n",
       "      <td>59.88%</td>\n",
       "      <td>-5.48%</td>\n",
       "    </tr>\n",
       "    <tr>\n",
       "      <th>3</th>\n",
       "      <td>ALL</td>\n",
       "      <td>0.094496</td>\n",
       "      <td>22.51%</td>\n",
       "      <td>-7.53%</td>\n",
       "      <td>0.239860</td>\n",
       "      <td>58.64%</td>\n",
       "      <td>-1.24%</td>\n",
       "    </tr>\n",
       "  </tbody>\n",
       "</table>\n",
       "</div>"
      ],
      "text/plain": [
       "   Feature Set  LR nRMSE LR nRMSE % LR nRMSE w.r.t previous row  GBDT nRMSE  \\\n",
       "0        Total  0.419761    100.00%                       0.00%    0.409030   \n",
       "1     Total∪TS  0.191644     45.66%                     -54.34%    0.267348   \n",
       "2  Total∪TS∪CT  0.126084     30.04%                     -15.62%    0.244937   \n",
       "3          ALL  0.094496     22.51%                      -7.53%    0.239860   \n",
       "\n",
       "  GBDT nRMSE % GBDT nRMSE w.r.t previous row  \n",
       "0      100.00%                         0.00%  \n",
       "1       65.36%                       -34.64%  \n",
       "2       59.88%                        -5.48%  \n",
       "3       58.64%                        -1.24%  "
      ]
     },
     "execution_count": 19,
     "metadata": {},
     "output_type": "execute_result"
    }
   ],
   "source": [
    "df_table1 = pd.DataFrame(['Total', 'Total∪TS', 'Total∪TS∪CT', 'ALL']).rename(columns = {0:'Feature Set'})\n",
    "df_table1['LR nRMSE'] = [nRMSE_111, nRMSE_112, nRMSE_113, nRMSE_114]\n",
    "df_table1['LR nRMSE %'] = df_table1['LR nRMSE']/nRMSE_111\n",
    "df_table1['LR nRMSE w.r.t previous row'] = df_table1['LR nRMSE %'] - ([1] + list(df_table1['LR nRMSE %'])[:-1])\n",
    "df_table1['GBDT nRMSE'] = [nRMSE_121, nRMSE_122, nRMSE_123, nRMSE_124]\n",
    "df_table1['GBDT nRMSE %'] = df_table1['GBDT nRMSE']/nRMSE_121\n",
    "df_table1['GBDT nRMSE w.r.t previous row'] = df_table1['GBDT nRMSE %'] - ([1] + list(df_table1['GBDT nRMSE %'])[:-1])\n",
    "df_table1[['LR nRMSE %', 'LR nRMSE w.r.t previous row', 'GBDT nRMSE %', 'GBDT nRMSE w.r.t previous row']] =\\\n",
    "    df_table1[['LR nRMSE %', 'LR nRMSE w.r.t previous row',  'GBDT nRMSE %', 'GBDT nRMSE w.r.t previous row']].applymap('{:.2%}'.format)\n",
    "df_table1"
   ]
  },
  {
   "cell_type": "markdown",
   "id": "7ea6b023",
   "metadata": {
    "id": "7ea6b023"
   },
   "source": [
    "### Table 2: Comparison of feature sets and models in terms of the average Variance Reduction rate(VRrate) (relative improvement w.r.t. the original data & previous row)"
   ]
  },
  {
   "cell_type": "code",
   "execution_count": 20,
   "id": "f96666eb",
   "metadata": {
    "id": "f96666eb",
    "outputId": "c17420fc-dc99-4085-b29a-51cc21db87f3"
   },
   "outputs": [
    {
     "data": {
      "text/html": [
       "<div>\n",
       "<style scoped>\n",
       "    .dataframe tbody tr th:only-of-type {\n",
       "        vertical-align: middle;\n",
       "    }\n",
       "\n",
       "    .dataframe tbody tr th {\n",
       "        vertical-align: top;\n",
       "    }\n",
       "\n",
       "    .dataframe thead th {\n",
       "        text-align: right;\n",
       "    }\n",
       "</style>\n",
       "<table border=\"1\" class=\"dataframe\">\n",
       "  <thead>\n",
       "    <tr style=\"text-align: right;\">\n",
       "      <th></th>\n",
       "      <th>Feature Set</th>\n",
       "      <th>LR variance</th>\n",
       "      <th>LR VR %</th>\n",
       "      <th>LR VR w.r.t previous row</th>\n",
       "      <th>GBDT variance</th>\n",
       "      <th>GBDT VR %</th>\n",
       "      <th>GBDT VR w.r.t previous row</th>\n",
       "    </tr>\n",
       "  </thead>\n",
       "  <tbody>\n",
       "    <tr>\n",
       "      <th>0</th>\n",
       "      <td>Baseline</td>\n",
       "      <td>7.475136</td>\n",
       "      <td>100.00%</td>\n",
       "      <td>0.00%</td>\n",
       "      <td>7.475136</td>\n",
       "      <td>100.00%</td>\n",
       "      <td>0.00%</td>\n",
       "    </tr>\n",
       "    <tr>\n",
       "      <th>1</th>\n",
       "      <td>Total</td>\n",
       "      <td>7.450329</td>\n",
       "      <td>99.67%</td>\n",
       "      <td>-0.33%</td>\n",
       "      <td>7.074252</td>\n",
       "      <td>94.64%</td>\n",
       "      <td>-5.36%</td>\n",
       "    </tr>\n",
       "    <tr>\n",
       "      <th>2</th>\n",
       "      <td>Total∪TS</td>\n",
       "      <td>6.211797</td>\n",
       "      <td>83.10%</td>\n",
       "      <td>-16.57%</td>\n",
       "      <td>3.022213</td>\n",
       "      <td>40.43%</td>\n",
       "      <td>-54.21%</td>\n",
       "    </tr>\n",
       "    <tr>\n",
       "      <th>3</th>\n",
       "      <td>Total∪TS∪CT</td>\n",
       "      <td>6.049716</td>\n",
       "      <td>80.93%</td>\n",
       "      <td>-2.17%</td>\n",
       "      <td>2.536753</td>\n",
       "      <td>33.94%</td>\n",
       "      <td>-6.49%</td>\n",
       "    </tr>\n",
       "    <tr>\n",
       "      <th>4</th>\n",
       "      <td>ALL</td>\n",
       "      <td>6.041122</td>\n",
       "      <td>80.82%</td>\n",
       "      <td>-0.11%</td>\n",
       "      <td>2.432676</td>\n",
       "      <td>32.54%</td>\n",
       "      <td>-1.39%</td>\n",
       "    </tr>\n",
       "  </tbody>\n",
       "</table>\n",
       "</div>"
      ],
      "text/plain": [
       "   Feature Set  LR variance  LR VR % LR VR w.r.t previous row  GBDT variance  \\\n",
       "0     Baseline     7.475136  100.00%                    0.00%       7.475136   \n",
       "1        Total     7.450329   99.67%                   -0.33%       7.074252   \n",
       "2     Total∪TS     6.211797   83.10%                  -16.57%       3.022213   \n",
       "3  Total∪TS∪CT     6.049716   80.93%                   -2.17%       2.536753   \n",
       "4          ALL     6.041122   80.82%                   -0.11%       2.432676   \n",
       "\n",
       "  GBDT VR % GBDT VR w.r.t previous row  \n",
       "0   100.00%                      0.00%  \n",
       "1    94.64%                     -5.36%  \n",
       "2    40.43%                    -54.21%  \n",
       "3    33.94%                     -6.49%  \n",
       "4    32.54%                     -1.39%  "
      ]
     },
     "execution_count": 20,
     "metadata": {},
     "output_type": "execute_result"
    }
   ],
   "source": [
    "df_table2 = pd.DataFrame(['Baseline' ,'Total', 'Total∪TS', 'Total∪TS∪CT', 'ALL']).rename(columns = {0:'Feature Set'})\n",
    "df_table2['LR variance'] = [variance_baseline, variance_111, variance_112, variance_113, variance_114]\n",
    "df_table2['LR VR %'] = df_table2['LR variance']/variance_baseline\n",
    "df_table2['LR VR w.r.t previous row'] = df_table2['LR VR %'] - ([1] + list(df_table2['LR VR %'])[:-1])\n",
    "df_table2['GBDT variance'] = [variance_baseline, variance_121, variance_122, variance_123, variance_124]\n",
    "df_table2['GBDT VR %'] = df_table2['GBDT variance']/variance_baseline\n",
    "df_table2['GBDT VR w.r.t previous row'] = df_table2['GBDT VR %'] - ([1] + list(df_table2['GBDT VR %'])[:-1])\n",
    "df_table2[['LR VR %', 'LR VR w.r.t previous row', 'GBDT VR %', 'GBDT VR w.r.t previous row']] =\\\n",
    "    df_table2[['LR VR %', 'LR VR w.r.t previous row', 'GBDT VR %', 'GBDT VR w.r.t previous row']].applymap('{:.2%}'.format)\n",
    "df_table2"
   ]
  },
  {
   "cell_type": "markdown",
   "id": "538fc43d",
   "metadata": {
    "id": "538fc43d"
   },
   "source": [
    "# [4] AB-test improvement"
   ]
  },
  {
   "cell_type": "markdown",
   "id": "aa4785e9",
   "metadata": {
    "id": "aa4785e9"
   },
   "source": [
    "### <span style=\"color:blue;\">In this section, we choose 2 models: DT@ALL (best performance) and LR@Total to running an ABtest on them, and comparing its performance with the ABtest using the original dataset"
   ]
  },
  {
   "cell_type": "code",
   "execution_count": 21,
   "id": "61eac558",
   "metadata": {
    "id": "61eac558"
   },
   "outputs": [],
   "source": [
    "from scipy.stats import ttest_ind"
   ]
  },
  {
   "cell_type": "code",
   "execution_count": 22,
   "id": "a5fa6a2e",
   "metadata": {
    "id": "a5fa6a2e"
   },
   "outputs": [],
   "source": [
    "def run_ab_test(df, name):\n",
    "    control = df.iloc[:250]\n",
    "    treatment = df.iloc[250:]\n",
    "    p_values = []\n",
    "    # Calculate p-value for all 7 days combined\n",
    "    control_all = control.values.reshape(-1)\n",
    "    treatment_all = treatment.values.reshape(-1)\n",
    "    t, p = ttest_ind(control_all, treatment_all)\n",
    "    p_values.append(p)\n",
    "\n",
    "    return pd.DataFrame(p_values, index = [name]).rename(columns = {0 : 'ABtest pvalue'})"
   ]
  },
  {
   "cell_type": "markdown",
   "id": "9461a189",
   "metadata": {
    "id": "9461a189"
   },
   "source": [
    "### [4.1] ABtest outcome"
   ]
  },
  {
   "cell_type": "code",
   "execution_count": 23,
   "id": "6f4bf0c4",
   "metadata": {
    "id": "6f4bf0c4",
    "outputId": "f39a93cc-c316-401d-97a1-a509612259a1"
   },
   "outputs": [
    {
     "data": {
      "text/html": [
       "<div>\n",
       "<style scoped>\n",
       "    .dataframe tbody tr th:only-of-type {\n",
       "        vertical-align: middle;\n",
       "    }\n",
       "\n",
       "    .dataframe tbody tr th {\n",
       "        vertical-align: top;\n",
       "    }\n",
       "\n",
       "    .dataframe thead th {\n",
       "        text-align: right;\n",
       "    }\n",
       "</style>\n",
       "<table border=\"1\" class=\"dataframe\">\n",
       "  <thead>\n",
       "    <tr style=\"text-align: right;\">\n",
       "      <th></th>\n",
       "      <th>ABtest pvalue</th>\n",
       "    </tr>\n",
       "  </thead>\n",
       "  <tbody>\n",
       "    <tr>\n",
       "      <th>original data</th>\n",
       "      <td>0.743250</td>\n",
       "    </tr>\n",
       "    <tr>\n",
       "      <th>LR@Total</th>\n",
       "      <td>0.585206</td>\n",
       "    </tr>\n",
       "    <tr>\n",
       "      <th>GBDT@ALL</th>\n",
       "      <td>0.325750</td>\n",
       "    </tr>\n",
       "  </tbody>\n",
       "</table>\n",
       "</div>"
      ],
      "text/plain": [
       "               ABtest pvalue\n",
       "original data       0.743250\n",
       "LR@Total            0.585206\n",
       "GBDT@ALL            0.325750"
      ]
     },
     "execution_count": 23,
     "metadata": {},
     "output_type": "execute_result"
    }
   ],
   "source": [
    "df_baseline = df1.iloc[:, 14:21]\n",
    "pd.concat([run_ab_test(df_baseline, 'original data'), run_ab_test(df_LR_Total, 'LR@Total'), run_ab_test(df_GBDT_ALL, 'GBDT@ALL')])"
   ]
  },
  {
   "cell_type": "code",
   "execution_count": null,
   "id": "38911846",
   "metadata": {
    "id": "38911846"
   },
   "outputs": [],
   "source": [
    "# successfully improve the sensitivity of ttest"
   ]
  },
  {
   "cell_type": "code",
   "execution_count": null,
   "id": "52c6395c",
   "metadata": {
    "id": "52c6395c"
   },
   "outputs": [],
   "source": []
  }
 ],
 "metadata": {
  "colab": {
   "provenance": []
  },
  "kernelspec": {
   "display_name": "Python 3 (ipykernel)",
   "language": "python",
   "name": "python3"
  },
  "language_info": {
   "codemirror_mode": {
    "name": "ipython",
    "version": 3
   },
   "file_extension": ".py",
   "mimetype": "text/x-python",
   "name": "python",
   "nbconvert_exporter": "python",
   "pygments_lexer": "ipython3",
   "version": "3.9.13"
  }
 },
 "nbformat": 4,
 "nbformat_minor": 5
}
