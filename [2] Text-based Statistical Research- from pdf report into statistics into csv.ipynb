{
 "cells": [
  {
   "cell_type": "markdown",
   "id": "b1d6520b",
   "metadata": {},
   "source": [
    "# [2] Text-based Statistical Research- from pdf report into statistics into csv"
   ]
  },
  {
   "cell_type": "markdown",
   "id": "6aa64e1f",
   "metadata": {},
   "source": [
    "### This is a demo of how I use coding to do text based(pdf fromat) statistical research, this project involving techniques like OCR(Optical Character Recognition), Regular-expression and data wrangling.\n",
    "### Target of this demo is to count the word frequency(in .txt) from thousands of pdf format report(100+page each) and documented into csv for future statistical research and model implementation\n",
    "### <span style=\"color:red;\"> Data is manipulated to avoid confidential information leakage!!!"
   ]
  },
  {
   "cell_type": "code",
   "execution_count": 1,
   "id": "af1eb6ec",
   "metadata": {},
   "outputs": [],
   "source": [
    "import pandas as pd\n",
    "import PyPDF2\n",
    "import pdfplumber as ppl\n",
    "import re"
   ]
  },
  {
   "cell_type": "code",
   "execution_count": 22,
   "id": "b99b43b5",
   "metadata": {},
   "outputs": [],
   "source": [
    "## get Target words\n",
    "Target_word = pd.read_table('Filter.txt')\n",
    "Target_word = list(Target_word['people'])\n",
    "Target_word = Target_word + ['people']\n",
    "##set the 7 companies\n",
    "company = ['Company1','Company2', 'Company3', 'Company4', 'Company5', 'Company6', 'Company7', 'Company8', 'Company9', 'Company10']\n",
    "## set years range\n",
    "years = ['2017','2018','2019', '2020', '2021']"
   ]
  },
  {
   "cell_type": "code",
   "execution_count": 12,
   "id": "d0d3e8f8",
   "metadata": {},
   "outputs": [],
   "source": [
    "words_sum = dict()\n",
    "for i in range(9):\n",
    "    words_sum[company[i]] = {'2017':0, '2018':0, '2019':0, '2020':0, '2021':0}"
   ]
  },
  {
   "cell_type": "code",
   "execution_count": 5,
   "id": "7cf39822",
   "metadata": {},
   "outputs": [],
   "source": [
    "## read 10K.pdf\n",
    "import os\n",
    "cwd = os.getcwd()"
   ]
  },
  {
   "cell_type": "markdown",
   "id": "9451071c",
   "metadata": {},
   "source": [
    "### Clean&Save 10K.pdf "
   ]
  },
  {
   "cell_type": "code",
   "execution_count": 20,
   "id": "f7cf1b23",
   "metadata": {},
   "outputs": [],
   "source": [
    "for i in company:\n",
    "    for j in years:\n",
    "        test = []\n",
    "        with ppl.open(cwd+\"\\\\\"+i+\"\\\\\"+j+\"\\\\10K.pdf\") as pdf:\n",
    "            for page in pdf.pages:\n",
    "                page_text = page.extract_text().split()\n",
    "                lower_text = [word.lower() for word in page_text]\n",
    "                strip_word = [word.strip('()[]{}\"”“:;,\\'-•1234567890$.*') for word in lower_text]\n",
    "                page_word = [word for word in strip_word if (word != '') and (re.search(r'\\w+', word))]\n",
    "                test = test + page_word\n",
    "        words_sum[i][j] = test"
   ]
  },
  {
   "cell_type": "code",
   "execution_count": 21,
   "id": "8dd723b5",
   "metadata": {},
   "outputs": [],
   "source": [
    "### save the cleaned-up 10K report\n",
    "import json\n",
    "cleaned_10K_json = json.dumps(words_sum)\n",
    "with open('cleaned_10K.txt', 'w') as f:\n",
    "    f.write(cleaned_10K_json)"
   ]
  },
  {
   "cell_type": "code",
   "execution_count": 24,
   "id": "17733a96",
   "metadata": {},
   "outputs": [],
   "source": [
    "writer = pd.ExcelWriter('10K_count_10companies.xlsx', engine='openpyxl', mode='a')\n",
    "for i in company:\n",
    "    locals()[f\"df_{i}\"] = pd.DataFrame()\n",
    "    for j in years:\n",
    "        word_temp = words_sum[i][j]\n",
    "        temp = pd.DataFrame()\n",
    "        len_word_temp = len(word_temp)\n",
    "        for t in range(764):\n",
    "            temp_word = Target_word[t]\n",
    "            temp.loc[t,'Word'] = temp_word\n",
    "            temp.loc[t,'Count'] = word_temp.count(temp_word)\n",
    "            temp.loc[t,'Density'] = word_temp.count(temp_word)/len_word_temp\n",
    "        locals()[f\"df_{i}\"] = pd.concat([temp, locals()[f\"df_{i}\"]], axis = 1)\n",
    "    ##save this into a sheet of the excel\n",
    "    locals()[f\"df_{i}\"].to_excel(writer, index=False, sheet_name = i)\n",
    "    writer.save()"
   ]
  },
  {
   "cell_type": "code",
   "execution_count": null,
   "id": "3e804f06",
   "metadata": {},
   "outputs": [],
   "source": []
  }
 ],
 "metadata": {
  "kernelspec": {
   "display_name": "Python 3 (ipykernel)",
   "language": "python",
   "name": "python3"
  },
  "language_info": {
   "codemirror_mode": {
    "name": "ipython",
    "version": 3
   },
   "file_extension": ".py",
   "mimetype": "text/x-python",
   "name": "python",
   "nbconvert_exporter": "python",
   "pygments_lexer": "ipython3",
   "version": "3.9.17"
  }
 },
 "nbformat": 4,
 "nbformat_minor": 5
}
